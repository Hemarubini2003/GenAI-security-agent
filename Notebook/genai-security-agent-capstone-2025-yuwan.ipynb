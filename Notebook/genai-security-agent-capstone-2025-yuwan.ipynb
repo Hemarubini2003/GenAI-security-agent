{
 "cells": [
  {
   "cell_type": "markdown",
   "metadata": {},
   "source": [
    "## Mock Misconfiguration Input\n",
    "\n"
   ]
  },
  {
   "cell_type": "code",
   "execution_count": 8,
   "metadata": {
    "execution": {
     "iopub.execute_input": "2025-04-13T04:21:44.121109Z",
     "iopub.status.busy": "2025-04-13T04:21:44.120835Z",
     "iopub.status.idle": "2025-04-13T04:21:44.134137Z",
     "shell.execute_reply": "2025-04-13T04:21:44.132926Z",
     "shell.execute_reply.started": "2025-04-13T04:21:44.121079Z"
    },
    "trusted": true
   },
   "outputs": [
    {
     "name": "stdout",
     "output_type": "stream",
     "text": [
      "Sample Security Policy Input (Test Case 1):\n",
      "\n",
      "{\n",
      "  \"bindings\": [\n",
      "    {\n",
      "      \"role\": \"roles/owner\",\n",
      "      \"members\": [\n",
      "        \"user:admin@example.com\",\n",
      "        \"allUsers\"\n",
      "      ]\n",
      "    }\n",
      "  ]\n",
      "}\n",
      "\n",
      "Sample Security Policy Input (Test Case 2):\n",
      "\n",
      "{\n",
      "  \"bindings\": [\n",
      "    {\n",
      "      \"role\": \"roles/compute.admin\",\n",
      "      \"members\": [\n",
      "        \"user:dev@example.com\",\n",
      "        \"allUsers\"\n",
      "      ]\n",
      "    }\n",
      "  ],\n",
      "  \"firewall\": {\n",
      "    \"allowed\": [\"tcp:22\"],\n",
      "    \"sourceRanges\": [\"0.0.0.0/0\"]\n",
      "  }\n",
      "}\n",
      "\n",
      "Sample Security Policy Input (Test Case 3):\n",
      "\n",
      "{\n",
      "  \"bindings\": [\n",
      "    {\n",
      "      \"role\": \"roles/storage.viewer\",\n",
      "      \"members\": [\n",
      "        \"serviceAccount:read-logs@example.iam.gserviceaccount.com\"\n",
      "      ]\n",
      "    },\n",
      "    {\n",
      "      \"role\": \"roles/storage.viewer\",\n",
      "      \"members\": [\n",
      "        \"serviceAccount:read-logs@example.iam.gserviceaccount.com\"\n",
      "      ]\n",
      "    }\n",
      "  ]\n",
      "}\n",
      "\n"
     ]
    }
   ],
   "source": [
    "# --- Test Case 1: Public Owner Role (IAM Misconfiguration) ---\n",
    "security_policy_1 = \"\"\"\n",
    "{\n",
    "  \"bindings\": [\n",
    "    {\n",
    "      \"role\": \"roles/owner\",\n",
    "      \"members\": [\n",
    "        \"user:admin@example.com\",\n",
    "        \"allUsers\"\n",
    "      ]\n",
    "    }\n",
    "  ]\n",
    "}\n",
    "\"\"\"\n",
    "# --- Test Case 2: Exposed Firewall Port with allUsers Access ---\n",
    "security_policy_2 = \"\"\"\n",
    "{\n",
    "  \"bindings\": [\n",
    "    {\n",
    "      \"role\": \"roles/compute.admin\",\n",
    "      \"members\": [\n",
    "        \"user:dev@example.com\",\n",
    "        \"allUsers\"\n",
    "      ]\n",
    "    }\n",
    "  ],\n",
    "  \"firewall\": {\n",
    "    \"allowed\": [\"tcp:22\"],\n",
    "    \"sourceRanges\": [\"0.0.0.0/0\"]\n",
    "  }\n",
    "}\n",
    "\"\"\"\n",
    "# --- Test Case 3: Low-Risk Redundant Permission ---\n",
    "security_policy_3 = \"\"\"\n",
    "{\n",
    "  \"bindings\": [\n",
    "    {\n",
    "      \"role\": \"roles/storage.viewer\",\n",
    "      \"members\": [\n",
    "        \"serviceAccount:read-logs@example.iam.gserviceaccount.com\"\n",
    "      ]\n",
    "    },\n",
    "    {\n",
    "      \"role\": \"roles/storage.viewer\",\n",
    "      \"members\": [\n",
    "        \"serviceAccount:read-logs@example.iam.gserviceaccount.com\"\n",
    "      ]\n",
    "    }\n",
    "  ]\n",
    "}\n",
    "\"\"\"\n",
    "print(\"Sample Security Policy Input (Test Case 1):\")\n",
    "print(security_policy_1)\n",
    "print(\"Sample Security Policy Input (Test Case 2):\")\n",
    "print(security_policy_2)\n",
    "print(\"Sample Security Policy Input (Test Case 3):\")\n",
    "print(security_policy_3)"
   ]
  },
  {
   "cell_type": "markdown",
   "metadata": {},
   "source": [
    "## Simulate Agent Reasoning\n",
    "\n",
    "\n"
   ]
  },
  {
   "cell_type": "code",
   "execution_count": 9,
   "metadata": {
    "execution": {
     "iopub.execute_input": "2025-04-13T04:21:59.602484Z",
     "iopub.status.busy": "2025-04-13T04:21:59.602159Z",
     "iopub.status.idle": "2025-04-13T04:21:59.609710Z",
     "shell.execute_reply": "2025-04-13T04:21:59.608900Z",
     "shell.execute_reply.started": "2025-04-13T04:21:59.602462Z"
    },
    "trusted": true
   },
   "outputs": [
    {
     "name": "stdout",
     "output_type": "stream",
     "text": [
      "\n",
      "1. Agent Risk Analysis (Test Case 1):\n",
      "{'risk': 'High', 'issue': 'Overly permissive access granted to allUsers (public access).', 'recommendation': \"Remove 'allUsers' and use IAM groups or specific roles with least privilege.\"}\n",
      "\n",
      "2. Agent Risk Analysis (Test Case 2):\n",
      "{'risk': 'High', 'issue': 'Overly permissive access granted to allUsers (public access).', 'recommendation': \"Remove 'allUsers' and use IAM groups or specific roles with least privilege.\"}\n",
      "\n",
      "3. Agent Risk Analysis (Test Case 3):\n",
      "{'risk': 'Low', 'issue': 'No major public exposure detected.', 'recommendation': 'Review policies periodically for changes.'}\n"
     ]
    }
   ],
   "source": [
    "def analyze_policy(policy_text):\n",
    "    # Simulated prompt + reasoning logic\n",
    "    if \"allUsers\" in policy_text:\n",
    "        return {\n",
    "            \"risk\": \"High\",\n",
    "            \"issue\": \"Overly permissive access granted to allUsers (public access).\",\n",
    "            \"recommendation\": \"Remove 'allUsers' and use IAM groups or specific roles with least privilege.\"\n",
    "        }\n",
    "    else:\n",
    "        return {\n",
    "            \"risk\": \"Low\",\n",
    "            \"issue\": \"No major public exposure detected.\",\n",
    "            \"recommendation\": \"Review policies periodically for changes.\"\n",
    "        }\n",
    "\n",
    "# Run agent analysis for all IAM policy test cases\n",
    "security_policies = [security_policy_1, security_policy_2, security_policy_3]\n",
    "results = []\n",
    "\n",
    "for idx, policy in enumerate(security_policies, start=1):\n",
    "    result = analyze_policy(policy)\n",
    "    results.append(result)\n",
    "    print(f\"\\n{idx}. Agent Risk Analysis (Test Case {idx}):\")\n",
    "    print(result)\n"
   ]
  },
  {
   "cell_type": "markdown",
   "metadata": {},
   "source": [
    "## Define Severity Scoring Function"
   ]
  },
  {
   "cell_type": "code",
   "execution_count": 3,
   "metadata": {
    "execution": {
     "iopub.execute_input": "2025-04-13T04:22:12.669410Z",
     "iopub.status.busy": "2025-04-13T04:22:12.669041Z",
     "iopub.status.idle": "2025-04-13T04:22:12.679080Z",
     "shell.execute_reply": "2025-04-13T04:22:12.677999Z",
     "shell.execute_reply.started": "2025-04-13T04:22:12.669382Z"
    },
    "trusted": true
   },
   "outputs": [],
   "source": [
    "# Basic risk scoring based on keywords in the issue text\n",
    "def classify_risk(issue_text):\n",
    "    issue_text = issue_text.lower()\n",
    "    if any(keyword in issue_text for keyword in [\"allusers\", \"public\"]):\n",
    "        return {\"severity\": \"High\", \"score\": 9}\n",
    "    if any(keyword in issue_text for keyword in [\"broad access\", \"admin\"]):\n",
    "        return {\"severity\": \"Medium\", \"score\": 6}\n",
    "    return {\"severity\": \"Low\", \"score\": 3}"
   ]
  },
  {
   "cell_type": "markdown",
   "metadata": {},
   "source": [
    "## Search Grounding Integration: SerpAPI\n",
    "\n",
    "\n",
    "\n",
    "\n"
   ]
  },
  {
   "cell_type": "code",
   "execution_count": 12,
   "metadata": {
    "execution": {
     "iopub.execute_input": "2025-04-13T04:22:17.196466Z",
     "iopub.status.busy": "2025-04-13T04:22:17.196108Z",
     "iopub.status.idle": "2025-04-13T04:22:17.442867Z",
     "shell.execute_reply": "2025-04-13T04:22:17.442003Z",
     "shell.execute_reply.started": "2025-04-13T04:22:17.196443Z"
    },
    "trusted": true
   },
   "outputs": [
    {
     "name": "stdout",
     "output_type": "stream",
     "text": [
      "Requirement already satisfied: requests in /Users/hemarubinij/agents/.venv/lib/python3.9/site-packages (2.32.3)\n",
      "Requirement already satisfied: charset-normalizer<4,>=2 in /Users/hemarubinij/agents/.venv/lib/python3.9/site-packages (from requests) (3.4.2)\n",
      "Requirement already satisfied: idna<4,>=2.5 in /Users/hemarubinij/agents/.venv/lib/python3.9/site-packages (from requests) (3.10)\n",
      "Requirement already satisfied: urllib3<3,>=1.21.1 in /Users/hemarubinij/agents/.venv/lib/python3.9/site-packages (from requests) (2.4.0)\n",
      "Requirement already satisfied: certifi>=2017.4.17 in /Users/hemarubinij/agents/.venv/lib/python3.9/site-packages (from requests) (2025.4.26)\n"
     ]
    }
   ],
   "source": [
    "!pip install requests\n",
    "\n",
    "\n",
    "# Integrate SerpAPI for Real-Time Grounding\n",
    "import requests\n",
    "\n",
    "\n",
    "# Load secret securely from Kaggle Secrets\n",
    "\n",
    "SERPAPI_API_KEY = \"1e9ffaa4d1a024de2e513ec86a76101725b565f04b0d95954c3a32dd20e609e5\"\n",
    "\n",
    "def serpapi_grounding(query, num_results=3):\n",
    "    url = \"https://serpapi.com/search.json\"\n",
    "    params = {\n",
    "        \"q\": query,\n",
    "        \"engine\": \"google\",\n",
    "        \"api_key\": SERPAPI_API_KEY,\n",
    "        \"num\": num_results\n",
    "    }\n",
    "    \n",
    "    response = requests.get(url, params=params)\n",
    "    if response.status_code == 200:\n",
    "        results = response.json().get(\"organic_results\", [])\n",
    "        return [res[\"snippet\"] for res in results]\n",
    "    else:\n",
    "        return [f\"Error fetching results: {response.text}\"]\n",
    "\n",
    "# Example real-time query (after adding your SerpAPI key)"
   ]
  },
  {
   "cell_type": "markdown",
   "metadata": {},
   "source": [
    "## Invoke Agent Function: Apply Risk Classification & Aggregate Results\n",
    "\n",
    "\n"
   ]
  },
  {
   "cell_type": "code",
   "execution_count": 13,
   "metadata": {
    "execution": {
     "iopub.execute_input": "2025-04-13T04:23:23.739870Z",
     "iopub.status.busy": "2025-04-13T04:23:23.739526Z",
     "iopub.status.idle": "2025-04-13T04:23:23.746395Z",
     "shell.execute_reply": "2025-04-13T04:23:23.745321Z",
     "shell.execute_reply.started": "2025-04-13T04:23:23.739842Z"
    },
    "trusted": true
   },
   "outputs": [
    {
     "name": "stdout",
     "output_type": "stream",
     "text": [
      "\n",
      " Enriched Agent Output with Severity Score (Test Case 1):\n",
      "{'risk': 'High', 'issue': 'Overly permissive access granted to allUsers (public access).', 'recommendation': \"Remove 'allUsers' and use IAM groups or specific roles with least privilege.\", 'severity': 'High', 'score': 9}\n",
      "\n",
      " Enriched Agent Output with Severity Score (Test Case 2):\n",
      "{'risk': 'High', 'issue': 'Overly permissive access granted to allUsers (public access).', 'recommendation': \"Remove 'allUsers' and use IAM groups or specific roles with least privilege.\", 'severity': 'High', 'score': 9}\n",
      "\n",
      " Enriched Agent Output with Severity Score (Test Case 3):\n",
      "{'risk': 'Low', 'issue': 'No major public exposure detected.', 'recommendation': 'Review policies periodically for changes.', 'severity': 'High', 'score': 9}\n"
     ]
    }
   ],
   "source": [
    "# Ensure result_1, result_2, result_3 are defined\n",
    "result_1 = analyze_policy(security_policy_1)\n",
    "result_2 = analyze_policy(security_policy_2)\n",
    "result_3 = analyze_policy(security_policy_3)\n",
    "\n",
    "# Apply severity classification and merge for all test cases\n",
    "results = [result_1, result_2, result_3]\n",
    "enhanced_results = []\n",
    "\n",
    "for i, r in enumerate(results, start=1):\n",
    "    classification = classify_risk(r[\"issue\"])\n",
    "    enhanced = {\n",
    "        **r,\n",
    "        **classification\n",
    "    }\n",
    "    enhanced_results.append(enhanced)\n",
    "    print(f\"\\n Enriched Agent Output with Severity Score (Test Case {i}):\")\n",
    "    print(enhanced)\n"
   ]
  },
  {
   "cell_type": "markdown",
   "metadata": {},
   "source": [
    "### Search Grounding – Real-Time Remediation Tips (Test Cases 1–3)\n",
    "\n"
   ]
  },
  {
   "cell_type": "code",
   "execution_count": 14,
   "metadata": {
    "collapsed": true,
    "execution": {
     "iopub.execute_input": "2025-04-13T04:52:43.221715Z",
     "iopub.status.busy": "2025-04-13T04:52:43.221369Z",
     "iopub.status.idle": "2025-04-13T04:52:43.460248Z",
     "shell.execute_reply": "2025-04-13T04:52:43.459230Z",
     "shell.execute_reply.started": "2025-04-13T04:52:43.221691Z"
    },
    "jupyter": {
     "outputs_hidden": true
    },
    "trusted": true
   },
   "outputs": [
    {
     "name": "stdout",
     "output_type": "stream",
     "text": [
      "\n",
      " 1. Security Misconfiguration Report (Test Case 1):\n",
      "Detected Issue:\n",
      "Overly permissive access granted to allUsers (public access).\n",
      "\n",
      "Risk Level:\n",
      "High (Severity: High, Score: 9)\n",
      "\n",
      "Recommendation:\n",
      "Remove 'allUsers' and use IAM groups or specific roles with least privilege.\n",
      "\n",
      "Real-Time Search-Based Tips:\n",
      "\n",
      "* Tip 1: No harmful health effects were found in 195345 residents living in the vicinity of the plant who were screened by the end of May 2011.\n",
      "* Tip 2: The United Nations Scientific Committee on the Effects of Atomic Radiation (UNSCEAR) identifies four major sources of public exposure to natural ...\n",
      "* Tip 3: The main objective of this publication is to establish guidelines for limiting EMF exposure that will provide protection against known adverse health effects.\n",
      "\n",
      " 2. Security Misconfiguration Report (Test Case 2):\n",
      "Detected Issue:\n",
      "Overly permissive access granted to allUsers (public access).\n",
      "\n",
      "Risk Level:\n",
      "High (Severity: High, Score: 9)\n",
      "\n",
      "Recommendation:\n",
      "Remove 'allUsers' and use IAM groups or specific roles with least privilege.\n",
      "\n",
      "Real-Time Search-Based Tips:\n",
      "\n",
      "* Tip 1: User accounts within applications often have overly broad privileges because they cannot be customized for specific needs. This means that critical areas of ...\n",
      "* Tip 2: How to investigate an OAuth grant for suspicious activity or overly permissive scopes. Learn best practices for assessing OAuth risks in your ...\n",
      "* Tip 3: We wanted to share our insight on overly permissive access, how it occurs, and how to avoid it. This post is a summary of our understanding of the problem.\n",
      "\n",
      " 3. Security Misconfiguration Report (Test Case 3):\n",
      "Detected Issue:\n",
      "No major public exposure detected.\n",
      "\n",
      "Risk Level:\n",
      "High (Severity: High, Score: 9)\n",
      "\n",
      "Recommendation:\n",
      "Review policies periodically for changes.\n",
      "\n",
      "Real-Time Search-Based Tips:\n",
      "\n",
      "* Tip 1: No harmful health effects were found in 195345 residents living in the vicinity of the plant who were screened by the end of May 2011.\n",
      "* Tip 2: The United Nations Scientific Committee on the Effects of Atomic Radiation (UNSCEAR) identifies four major sources of public exposure to natural ...\n",
      "* Tip 3: The main objective of this publication is to establish guidelines for limiting EMF exposure that will provide protection against known adverse health effects.\n"
     ]
    }
   ],
   "source": [
    "# Generate Final Security Misconfiguration Report\n",
    "def generate_security_report(data, grounding_tips):\n",
    "    lines = [\n",
    "        f\"Detected Issue:\\n{data['issue']}\\n\",\n",
    "        f\"Risk Level:\\n{data['severity']} (Severity: {data['severity']}, Score: {data['score']})\\n\",\n",
    "        f\"Recommendation:\\n{data['recommendation']}\\n\",\n",
    "        \"Real-Time Search-Based Tips:\\n\"\n",
    "    ] + [f\"* Tip {i+1}: {tip}\" for i, tip in enumerate(grounding_tips)]\n",
    "\n",
    "    return \"\\n\".join(lines)\n",
    "\n",
    "search_results = serpapi_grounding(result[\"issue\"])\n",
    "search_results_2 = serpapi_grounding(result_2[\"issue\"])\n",
    "search_results_3 = serpapi_grounding(result_3[\"issue\"])\n",
    "\n",
    "# Generate and display the report\n",
    "\n",
    "search_results_list = [search_results, search_results_2, search_results_3]\n",
    "\n",
    "\n",
    "print(\"\\n 1. Security Misconfiguration Report (Test Case 1):\")\n",
    "final_report = generate_security_report(enhanced_results[0], search_results_list[0])\n",
    "print(final_report)\n",
    "\n",
    "print(\"\\n 2. Security Misconfiguration Report (Test Case 2):\")\n",
    "final_report_2 = generate_security_report(enhanced_results[1], search_results_list[1])\n",
    "print(final_report_2)\n",
    "\n",
    "print(\"\\n 3. Security Misconfiguration Report (Test Case 3):\")\n",
    "final_report_3 = generate_security_report(enhanced_results[2], search_results_list[2])\n",
    "print(final_report_3)\n",
    "\n"
   ]
  },
  {
   "cell_type": "markdown",
   "metadata": {},
   "source": [
    "### Visual Summary – Risk Breakdown"
   ]
  },
  {
   "cell_type": "code",
   "execution_count": 17,
   "metadata": {
    "collapsed": true,
    "execution": {
     "iopub.execute_input": "2025-04-13T04:54:42.151362Z",
     "iopub.status.busy": "2025-04-13T04:54:42.151032Z",
     "iopub.status.idle": "2025-04-13T04:54:42.572540Z",
     "shell.execute_reply": "2025-04-13T04:54:42.571549Z",
     "shell.execute_reply.started": "2025-04-13T04:54:42.151338Z"
    },
    "jupyter": {
     "outputs_hidden": true,
     "source_hidden": true
    },
    "trusted": true
   },
   "outputs": [
    {
     "name": "stdout",
     "output_type": "stream",
     "text": [
      "Collecting matplotlib\n",
      "  Downloading matplotlib-3.9.4-cp39-cp39-macosx_11_0_arm64.whl.metadata (11 kB)\n",
      "Collecting contourpy>=1.0.1 (from matplotlib)\n",
      "  Downloading contourpy-1.3.0-cp39-cp39-macosx_11_0_arm64.whl.metadata (5.4 kB)\n",
      "Collecting cycler>=0.10 (from matplotlib)\n",
      "  Downloading cycler-0.12.1-py3-none-any.whl.metadata (3.8 kB)\n",
      "Collecting fonttools>=4.22.0 (from matplotlib)\n",
      "  Downloading fonttools-4.57.0-cp39-cp39-macosx_10_9_universal2.whl.metadata (102 kB)\n",
      "Collecting kiwisolver>=1.3.1 (from matplotlib)\n",
      "  Downloading kiwisolver-1.4.7-cp39-cp39-macosx_11_0_arm64.whl.metadata (6.3 kB)\n",
      "Requirement already satisfied: numpy>=1.23 in /Users/hemarubinij/agents/.venv/lib/python3.9/site-packages (from matplotlib) (2.0.2)\n",
      "Requirement already satisfied: packaging>=20.0 in /Users/hemarubinij/agents/.venv/lib/python3.9/site-packages (from matplotlib) (24.2)\n",
      "Requirement already satisfied: pillow>=8 in /Users/hemarubinij/agents/.venv/lib/python3.9/site-packages (from matplotlib) (11.2.1)\n",
      "Collecting pyparsing>=2.3.1 (from matplotlib)\n",
      "  Downloading pyparsing-3.2.3-py3-none-any.whl.metadata (5.0 kB)\n",
      "Requirement already satisfied: python-dateutil>=2.7 in /Users/hemarubinij/agents/.venv/lib/python3.9/site-packages (from matplotlib) (2.9.0.post0)\n",
      "Collecting importlib-resources>=3.2.0 (from matplotlib)\n",
      "  Downloading importlib_resources-6.5.2-py3-none-any.whl.metadata (3.9 kB)\n",
      "Requirement already satisfied: zipp>=3.1.0 in /Users/hemarubinij/agents/.venv/lib/python3.9/site-packages (from importlib-resources>=3.2.0->matplotlib) (3.21.0)\n",
      "Requirement already satisfied: six>=1.5 in /Users/hemarubinij/agents/.venv/lib/python3.9/site-packages (from python-dateutil>=2.7->matplotlib) (1.17.0)\n",
      "Downloading matplotlib-3.9.4-cp39-cp39-macosx_11_0_arm64.whl (7.8 MB)\n",
      "\u001b[2K   \u001b[90m━━━━━━━━━━━━━━━━━━━━━━━━━━━━━━━━━━━━━━━━\u001b[0m \u001b[32m7.8/7.8 MB\u001b[0m \u001b[31m1.4 MB/s\u001b[0m eta \u001b[36m0:00:00\u001b[0m00:01\u001b[0m00:02\u001b[0m0m\n",
      "\u001b[?25hDownloading contourpy-1.3.0-cp39-cp39-macosx_11_0_arm64.whl (249 kB)\n",
      "Downloading cycler-0.12.1-py3-none-any.whl (8.3 kB)\n",
      "Downloading fonttools-4.57.0-cp39-cp39-macosx_10_9_universal2.whl (2.8 MB)\n",
      "\u001b[2K   \u001b[90m━━━━━━━━━━━━━━━━━━━━━━━━━━━━━━━━━━━━━━━━\u001b[0m \u001b[32m2.8/2.8 MB\u001b[0m \u001b[31m15.3 MB/s\u001b[0m eta \u001b[36m0:00:00\u001b[0m\n",
      "\u001b[?25hDownloading importlib_resources-6.5.2-py3-none-any.whl (37 kB)\n",
      "Downloading kiwisolver-1.4.7-cp39-cp39-macosx_11_0_arm64.whl (64 kB)\n",
      "Downloading pyparsing-3.2.3-py3-none-any.whl (111 kB)\n",
      "Installing collected packages: pyparsing, kiwisolver, importlib-resources, fonttools, cycler, contourpy, matplotlib\n",
      "\u001b[2K   \u001b[90m━━━━━━━━━━━━━━━━━━━━━━━━━━━━━━━━━━━━━━━━\u001b[0m \u001b[32m7/7\u001b[0m [matplotlib]7\u001b[0m [matplotlib]\n",
      "\u001b[1A\u001b[2KSuccessfully installed contourpy-1.3.0 cycler-0.12.1 fonttools-4.57.0 importlib-resources-6.5.2 kiwisolver-1.4.7 matplotlib-3.9.4 pyparsing-3.2.3\n"
     ]
    },
    {
     "name": "stderr",
     "output_type": "stream",
     "text": [
      "Matplotlib is building the font cache; this may take a moment.\n"
     ]
    },
    {
     "data": {
      "image/png": "[encoded data removed]",
      "text/plain": [
       "<Figure size 1800x600 with 3 Axes>"
      ]
     },
     "metadata": {},
     "output_type": "display_data"
    }
   ],
   "source": [
    "# --- Visual Summary – Risk Breakdown (Auto-generated from agent outputs) ---\n",
    "\n",
    "# Collect issues from enhanced agent output\n",
    "!pip install matplotlib\n",
    "# Create pie chart\n",
    "import matplotlib.pyplot as plt\n",
    "\n",
    "# Extract issue types, risk levels, and severity scores\n",
    "issues = [res[\"issue\"] for res in enhanced_results]\n",
    "risks = [res[\"risk\"] for res in enhanced_results]\n",
    "severity = [res[\"severity\"] for res in enhanced_results]\n",
    "\n",
    "# Count frequency of each\n",
    "from collections import Counter\n",
    "issue_counts = Counter(issues)\n",
    "risk_counts = Counter(risks)\n",
    "severity_counts = Counter(severity)\n",
    "\n",
    "# Setup subplots: 3 columns, 1 row\n",
    "fig, axs = plt.subplots(1, 3, figsize=(18, 6))\n",
    "\n",
    "labels = list(issue_counts.keys())\n",
    "counts = list(issue_counts.values())\n",
    "\n",
    "# Issue Breakdown\n",
    "axs[0].pie(issue_counts.values(), labels=issue_counts.keys(), autopct=\"%1.1f%%\", startangle=140)\n",
    "axs[0].set_title(\"Issue Type Breakdown\")\n",
    "\n",
    "# Risk Level Breakdown\n",
    "axs[1].pie(risk_counts.values(), labels=risk_counts.keys(), autopct=\"%1.1f%%\", startangle=140)\n",
    "axs[1].set_title(\"Risk Level Breakdown\")\n",
    "\n",
    "# Severity Score Breakdown\n",
    "axs[2].pie(severity_counts.values(), labels=severity_counts.keys(), autopct=\"%1.1f%%\", startangle=140)\n",
    "axs[2].set_title(\"Severity Score Breakdown\")\n",
    "\n",
    "plt.tight_layout()\n",
    "plt.savefig(\"combined_risk_breakdown.png\")\n",
    "plt.show()"
   ]
  },
  {
   "cell_type": "markdown",
   "metadata": {},
   "source": [
    "### Final Report Export (PDF + HTML + Markdown)\n",
    "\n",
    "### Combined Export Block: PDF + HTML + Markdown Report\n",
    "This block saves the final report (including the pie chart) to three formats: PDF, HTML, and Markdown. These outputs are useful for documentation, review, or integration into dashboards.\n"
   ]
  },
  {
   "cell_type": "code",
   "execution_count": 18,
   "metadata": {
    "collapsed": true,
    "execution": {
     "iopub.execute_input": "2025-04-13T05:16:09.833418Z",
     "iopub.status.busy": "2025-04-13T05:16:09.832558Z",
     "iopub.status.idle": "2025-04-13T05:16:14.794844Z",
     "shell.execute_reply": "2025-04-13T05:16:14.793539Z",
     "shell.execute_reply.started": "2025-04-13T05:16:09.833379Z"
    },
    "jupyter": {
     "outputs_hidden": true
    },
    "trusted": true
   },
   "outputs": [
    {
     "name": "stdout",
     "output_type": "stream",
     "text": [
      "Collecting fpdf\n",
      "  Downloading fpdf-1.7.2.tar.gz (39 kB)\n",
      "  Installing build dependencies ... \u001b[?25ldone\n",
      "\u001b[?25h  Getting requirements to build wheel ... \u001b[?25ldone\n",
      "\u001b[?25h  Preparing metadata (pyproject.toml) ... \u001b[?25ldone\n",
      "\u001b[?25hBuilding wheels for collected packages: fpdf\n",
      "  Building wheel for fpdf (pyproject.toml) ... \u001b[?25ldone\n",
      "\u001b[?25h  Created wheel for fpdf: filename=fpdf-1.7.2-py2.py3-none-any.whl size=40761 sha256=ee69542b20617f29143d210231652d13823c6fa069a618fd4802ee28a0d8b6ab\n",
      "  Stored in directory: /Users/hemarubinij/Library/Caches/pip/wheels/44/35/8b/86ce00cec7e4d13c5f189680ae0fa82f919bedc066c2cddae9\n",
      "Successfully built fpdf\n",
      "Installing collected packages: fpdf\n",
      "Successfully installed fpdf-1.7.2\n",
      "PDF saved as 'Security_Misconfig_Report.pdf'\n",
      "Markdown report saved as 'Security_Misconfig_Report.md'\n",
      "HTML report saved as 'Security_Misconfig_Report.html'\n"
     ]
    }
   ],
   "source": [
    "# --- Combined Export Block: PDF + HTML + Markdown (All 3 Test Cases) ---\n",
    "\n",
    "# Install fpdf for PDF generation\n",
    "!pip install fpdf\n",
    "\n",
    "from fpdf import FPDF\n",
    "import re\n",
    "\n",
    "# Function to clean non-Latin characters (for PDF safety)\n",
    "def remove_non_latin(text):\n",
    "    return re.sub(r'[^\\x00-\\xFF]', '', text)\n",
    "\n",
    "# PDF Export\n",
    "def export_pdf(report_text, filename=\"Security_Misconfig_Report.pdf\"):\n",
    "    pdf = FPDF()\n",
    "    pdf.add_page()\n",
    "    pdf.set_font(\"Arial\", size=12)\n",
    "\n",
    "    clean_text = remove_non_latin(report_text)\n",
    "\n",
    "    for line in clean_text.split(\"\\n\"):\n",
    "        pdf.multi_cell(0, 10, line)\n",
    "\n",
    "    try:\n",
    "        pdf.image(\"combined_risk_breakdown.png\", x=10, w=180)\n",
    "    except Exception as e:\n",
    "        print(f\"[!] Chart image not included in PDF: {e}\")\n",
    "\n",
    "    pdf.output(filename)\n",
    "    print(f\"PDF saved as '{filename}'\")\n",
    "\n",
    "# Markdown Export\n",
    "def export_markdown(report_text, filename=\"Security_Misconfig_Report.md\"):\n",
    "    with open(filename, \"w\") as f:\n",
    "        f.write(\"# Security Misconfiguration Report\\n\\n\")\n",
    "        f.write(report_text)\n",
    "        f.write(\"\\n\\n---\\n\\n![Risk Breakdown Chart](combined_risk_breakdown.png)\\n\")\n",
    "    print(f\"Markdown report saved as '{filename}'\")\n",
    "\n",
    "# HTML Export\n",
    "def export_html(report_text, filename=\"Security_Misconfig_Report.html\"):\n",
    "    html_template = f\"\"\"\n",
    "    <html>\n",
    "    <head>\n",
    "        <title>Security Misconfiguration Report</title>\n",
    "        <style>\n",
    "            body {{\n",
    "                font-family: Arial, sans-serif;\n",
    "                padding: 20px;\n",
    "                line-height: 1.6;\n",
    "            }}\n",
    "            pre {{\n",
    "                background-color: #f4f4f4;\n",
    "                padding: 10px;\n",
    "                border-radius: 5px;\n",
    "            }}\n",
    "        </style>\n",
    "    </head>\n",
    "    <body>\n",
    "        <h1>Security Misconfiguration Report</h1>\n",
    "        <pre>{report_text}</pre>\n",
    "        <hr>\n",
    "        <h2>Risk Breakdown Chart</h2>\n",
    "        <img src=\"combined_risk_breakdown.png\" alt=\"Risk Breakdown Chart\" width=\"500\">\n",
    "    </body>\n",
    "    </html>\n",
    "    \"\"\"\n",
    "    with open(filename, \"w\") as f:\n",
    "        f.write(html_template)\n",
    "    print(f\"HTML report saved as '{filename}'\")\n",
    "\n",
    "# Combine all 3 test case reports into one final string\n",
    "combined_text = \"\\n\\n\".join([final_report, final_report_2, final_report_3])\n",
    "\n",
    "# Run all export formats with combined final report\n",
    "export_pdf(combined_text)\n",
    "export_markdown(combined_text)\n",
    "export_html(combined_text)"
   ]
  }
 ],
 "metadata": {
  "kaggle": {
   "accelerator": "none",
   "dataSources": [],
   "dockerImageVersionId": 31012,
   "isGpuEnabled": false,
   "isInternetEnabled": true,
   "language": "python",
   "sourceType": "notebook"
  },
  "kernelspec": {
   "display_name": ".venv",
   "language": "python",
   "name": "python3"
  },
  "language_info": {
   "codemirror_mode": {
    "name": "ipython",
    "version": 3
   },
   "file_extension": ".py",
   "mimetype": "text/x-python",
   "name": "python",
   "nbconvert_exporter": "python",
   "pygments_lexer": "ipython3",
   "version": "3.9.6"
  }
 },
 "nbformat": 4,
 "nbformat_minor": 4
}
